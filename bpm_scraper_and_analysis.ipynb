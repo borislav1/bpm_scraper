{
 "cells": [
  {
   "cell_type": "code",
   "execution_count": 2,
   "id": "8ce64dd9",
   "metadata": {},
   "outputs": [],
   "source": [
    "import requests\n",
    "import csv\n",
    "from bs4 import BeautifulSoup\n",
    "from requests_html import HTMLSession\n",
    "from time import sleep\n",
    "import re\n",
    "import random\n",
    "import pandas as pd"
   ]
  },
  {
   "cell_type": "code",
   "execution_count": 3,
   "id": "899021a4",
   "metadata": {},
   "outputs": [],
   "source": [
    "headers = {\n",
    "    \"Accept\": \"*/*\",\n",
    "    \"Accept-Encoding\": \"gzip, deflate, br\", \n",
    "    \"Accept-Language\": \"en-GB,en-US;q=0.9,en;q=0.8,sl;q=0.7,mk;q=0.6\", \n",
    "    \"User-Agent\": \"Mozilla/5.0 (X11; Linux x86_64) AppleWebKit/537.36 (KHTML, like Gecko) Chrome/97.0.4692.71 Safari/537.36\", \n",
    "    \"Cache-control\": \"no-cache\",\n",
    "    \"Origin\": \"https://www.avto.net\",\n",
    "    \"Referer\": \"https://www.avto.net/\",\n",
    "    \"Content-type\": \"application/x-www-form-urlencoded\",\n",
    "    \"Sec-ch-ua-platform\": \"Linux\",    \n",
    "}"
   ]
  },
  {
   "cell_type": "code",
   "execution_count": 7,
   "id": "9d06f5b0",
   "metadata": {},
   "outputs": [],
   "source": [
    "def get_url(page_number):\n",
    "    return f\"https://www.avto.net/Ads/results.asp?znamka=&model=&modelID=&tip=&znamka2=&model2=&tip2=&znamka3=&model3=&tip3=&cenaMin=0&cenaMax=999999&letnikMin=0&letnikMax=2090&bencin=0&starost2=999&oblika=0&ccmMin=0&ccmMax=99999&mocMin=0&mocMax=999999&kmMin=0&kmMax=9999999&kwMin=0&kwMax=999&motortakt=0&motorvalji=0&lokacija=0&sirina=0&dolzina=&dolzinaMIN=0&dolzinaMAX=100&nosilnostMIN=0&nosilnostMAX=999999&lezisc=&presek=0&premer=0&col=0&vijakov=0&EToznaka=0&vozilo=&airbag=&barva=&barvaint=&EQ1=1000000000&EQ2=1000000000&EQ3=1000000000&EQ4=100000000&EQ5=1000000000&EQ6=1000000000&EQ7=1000100110&EQ8=1010000001&EQ9=1000000000&KAT=1010000000&PIA=&PIAzero=&PSLO=&akcija=0&paketgarancije=&broker=0&prikazkategorije=0&kategorija=0&ONLvid=0&ONLnak=0&zaloga=10&arhiv=0&presort=3&tipsort=DESC&stran={page_number}\" "
   ]
  },
  {
   "cell_type": "code",
   "execution_count": 81,
   "id": "b69fcf1e",
   "metadata": {},
   "outputs": [],
   "source": [
    "#with open(\"response.html\", \"w\") as f:\n",
    "#    f.write(r.text)\n",
    "# with open(\"response.html\", \"r\") as f:\n",
    "#     soup = BeautifulSoup(f.read(), \"html.parser\")\n",
    "#     soups.append(soup)"
   ]
  },
  {
   "cell_type": "code",
   "execution_count": 5,
   "id": "9950229d",
   "metadata": {},
   "outputs": [],
   "source": [
    "regex = re.compile('.*Logo.*')\n",
    "\n",
    "def extract_car_data(car):    \n",
    "    title = car.find(\"div\", class_=\"GO-Results-Naziv\").text.strip().replace(\",\", \"\")\n",
    "    try:\n",
    "        broker = car.find('div', {'class': regex}).a['href']\n",
    "    except:\n",
    "        broker = \"\"    \n",
    "    year = car.find('tbody').find('tr').findAll()[1].text\n",
    "    car_data = [title, broker, year]    \n",
    "    return car_data"
   ]
  },
  {
   "cell_type": "code",
   "execution_count": 13,
   "id": "1d40e945",
   "metadata": {},
   "outputs": [],
   "source": [
    "# columns = ['title', 'broker', 'year']\n",
    "# with open('data.csv', 'w') as file:\n",
    "#     file.write(\", \".join(columns))\n",
    "#     file.write(\"\\n\")"
   ]
  },
  {
   "cell_type": "code",
   "execution_count": 8,
   "id": "9566fe31",
   "metadata": {},
   "outputs": [],
   "source": [
    "df1 = pd.read_csv(\"data2.csv\")\n",
    "df2 = pd.read_csv(\"data3.csv\")"
   ]
  },
  {
   "cell_type": "code",
   "execution_count": 13,
   "id": "5f32ab74",
   "metadata": {},
   "outputs": [],
   "source": [
    "df = pd.concat([df1, df2], ignore_index=True)\n",
    "df.columns = ['title', 'broker', 'year']"
   ]
  },
  {
   "cell_type": "code",
   "execution_count": 16,
   "id": "ac1026c4",
   "metadata": {},
   "outputs": [],
   "source": [
    "df_temp = df['title'].str.split(expand=True, n=2)\n",
    "df_temp.columns = ['brand', 'model', 'info']"
   ]
  },
  {
   "cell_type": "code",
   "execution_count": 18,
   "id": "62549166",
   "metadata": {},
   "outputs": [],
   "source": [
    "df = pd.concat([df_temp, df[['year', 'broker']]], axis=1)"
   ]
  },
  {
   "cell_type": "code",
   "execution_count": 21,
   "id": "f3272402",
   "metadata": {},
   "outputs": [],
   "source": [
    "def get_broker_id(broker_base_url):\n",
    "    return broker_base_url.split('?')[1].split('&')[0][7:]"
   ]
  },
  {
   "cell_type": "code",
   "execution_count": 22,
   "id": "3e26c916",
   "metadata": {},
   "outputs": [],
   "source": [
    "df['broker_id'] = df['broker'].apply(get_broker_id)"
   ]
  },
  {
   "cell_type": "code",
   "execution_count": 23,
   "id": "64332b51",
   "metadata": {},
   "outputs": [
    {
     "data": {
      "text/html": [
       "<div>\n",
       "<style scoped>\n",
       "    .dataframe tbody tr th:only-of-type {\n",
       "        vertical-align: middle;\n",
       "    }\n",
       "\n",
       "    .dataframe tbody tr th {\n",
       "        vertical-align: top;\n",
       "    }\n",
       "\n",
       "    .dataframe thead th {\n",
       "        text-align: right;\n",
       "    }\n",
       "</style>\n",
       "<table border=\"1\" class=\"dataframe\">\n",
       "  <thead>\n",
       "    <tr style=\"text-align: right;\">\n",
       "      <th></th>\n",
       "      <th>brand</th>\n",
       "      <th>model</th>\n",
       "      <th>info</th>\n",
       "      <th>year</th>\n",
       "      <th>broker</th>\n",
       "      <th>broker_id</th>\n",
       "    </tr>\n",
       "  </thead>\n",
       "  <tbody>\n",
       "    <tr>\n",
       "      <th>0</th>\n",
       "      <td>Kia</td>\n",
       "      <td>Sportage</td>\n",
       "      <td>2WD 1.7 CRDi Urban 1LAST. SLO.NA OBROKE-BREZ P...</td>\n",
       "      <td>2015</td>\n",
       "      <td>results321_makes.asp?broker=14095&amp;oglasrubrik...</td>\n",
       "      <td>14095</td>\n",
       "    </tr>\n",
       "    <tr>\n",
       "      <th>1</th>\n",
       "      <td>Mercedes-Benz</td>\n",
       "      <td>E-Razred</td>\n",
       "      <td>E 220 d 4MATIC+LED+PANORAMA+WIDESCREEN+VL.KLJUKA</td>\n",
       "      <td>2017</td>\n",
       "      <td>results321_makes.asp?broker=14947&amp;oglasrubrik...</td>\n",
       "      <td>14947</td>\n",
       "    </tr>\n",
       "    <tr>\n",
       "      <th>2</th>\n",
       "      <td>BMW</td>\n",
       "      <td>M4</td>\n",
       "      <td>PERLA-CARBON-KAMERA-MEMORY</td>\n",
       "      <td>2014</td>\n",
       "      <td>results321_makes.asp?broker=14775&amp;oglasrubrik...</td>\n",
       "      <td>14775</td>\n",
       "    </tr>\n",
       "    <tr>\n",
       "      <th>3</th>\n",
       "      <td>Porsche</td>\n",
       "      <td>Cayenne</td>\n",
       "      <td>4.8 b+USNJE+MODIFICIRAN+F1+ALU21+LEASING+TOP</td>\n",
       "      <td>2008</td>\n",
       "      <td>results321_makes.asp?broker=16351&amp;oglasrubrik...</td>\n",
       "      <td>16351</td>\n",
       "    </tr>\n",
       "    <tr>\n",
       "      <th>4</th>\n",
       "      <td>BMW</td>\n",
       "      <td>serija</td>\n",
       "      <td>5 Touring: 530d xDrive -84.000km-TV-FULL LED-P...</td>\n",
       "      <td>2017</td>\n",
       "      <td>results321_makes.asp?broker=15695&amp;oglasrubrik...</td>\n",
       "      <td>15695</td>\n",
       "    </tr>\n",
       "  </tbody>\n",
       "</table>\n",
       "</div>"
      ],
      "text/plain": [
       "           brand     model                                               info  \\\n",
       "0            Kia  Sportage  2WD 1.7 CRDi Urban 1LAST. SLO.NA OBROKE-BREZ P...   \n",
       "1  Mercedes-Benz  E-Razred   E 220 d 4MATIC+LED+PANORAMA+WIDESCREEN+VL.KLJUKA   \n",
       "2            BMW        M4                         PERLA-CARBON-KAMERA-MEMORY   \n",
       "3        Porsche   Cayenne       4.8 b+USNJE+MODIFICIRAN+F1+ALU21+LEASING+TOP   \n",
       "4            BMW    serija  5 Touring: 530d xDrive -84.000km-TV-FULL LED-P...   \n",
       "\n",
       "   year                                             broker broker_id  \n",
       "0  2015   results321_makes.asp?broker=14095&oglasrubrik...     14095  \n",
       "1  2017   results321_makes.asp?broker=14947&oglasrubrik...     14947  \n",
       "2  2014   results321_makes.asp?broker=14775&oglasrubrik...     14775  \n",
       "3  2008   results321_makes.asp?broker=16351&oglasrubrik...     16351  \n",
       "4  2017   results321_makes.asp?broker=15695&oglasrubrik...     15695  "
      ]
     },
     "execution_count": 23,
     "metadata": {},
     "output_type": "execute_result"
    }
   ],
   "source": [
    "df.head()"
   ]
  },
  {
   "cell_type": "code",
   "execution_count": 27,
   "id": "385ecc8d",
   "metadata": {},
   "outputs": [],
   "source": [
    "def year_category(year):\n",
    "    if year < 2006:\n",
    "        return \"old\"\n",
    "    elif 2006 <= year <= 2012:\n",
    "        return \"interest\"\n",
    "    else:\n",
    "        return \"new\"        "
   ]
  },
  {
   "cell_type": "code",
   "execution_count": 28,
   "id": "5c08cd54",
   "metadata": {},
   "outputs": [],
   "source": [
    "def get_broker_url(base_url):\n",
    "    return f\"https://www.avto.net/Ads/{base_url}\""
   ]
  },
  {
   "cell_type": "code",
   "execution_count": 30,
   "id": "e9484688",
   "metadata": {},
   "outputs": [],
   "source": [
    "df['year_category'] = df['year'].apply(year_category)"
   ]
  },
  {
   "cell_type": "code",
   "execution_count": 34,
   "id": "78cd887c",
   "metadata": {},
   "outputs": [
    {
     "data": {
      "text/plain": [
       "interest    4475\n",
       "new         2651\n",
       "old          994\n",
       "Name: year_category, dtype: int64"
      ]
     },
     "execution_count": 34,
     "metadata": {},
     "output_type": "execute_result"
    }
   ],
   "source": [
    "df['year_category'].value_counts()"
   ]
  },
  {
   "cell_type": "code",
   "execution_count": 37,
   "id": "93883da4",
   "metadata": {},
   "outputs": [],
   "source": [
    "german_brands = ['Mercedes-Benz', 'Volkswagen', 'BMW', 'Audi']"
   ]
  },
  {
   "cell_type": "code",
   "execution_count": 40,
   "id": "fe1c6442",
   "metadata": {},
   "outputs": [],
   "source": [
    "df_filter = df[(df['brand'].isin(german_brands)) & (df['year_category']=='interest')]"
   ]
  },
  {
   "cell_type": "code",
   "execution_count": 41,
   "id": "8ab59b03",
   "metadata": {},
   "outputs": [
    {
     "data": {
      "text/html": [
       "<div>\n",
       "<style scoped>\n",
       "    .dataframe tbody tr th:only-of-type {\n",
       "        vertical-align: middle;\n",
       "    }\n",
       "\n",
       "    .dataframe tbody tr th {\n",
       "        vertical-align: top;\n",
       "    }\n",
       "\n",
       "    .dataframe thead th {\n",
       "        text-align: right;\n",
       "    }\n",
       "</style>\n",
       "<table border=\"1\" class=\"dataframe\">\n",
       "  <thead>\n",
       "    <tr style=\"text-align: right;\">\n",
       "      <th></th>\n",
       "      <th>brand</th>\n",
       "      <th>model</th>\n",
       "      <th>info</th>\n",
       "      <th>year</th>\n",
       "      <th>broker</th>\n",
       "      <th>broker_id</th>\n",
       "      <th>year_category</th>\n",
       "    </tr>\n",
       "  </thead>\n",
       "  <tbody>\n",
       "    <tr>\n",
       "      <th>11</th>\n",
       "      <td>Volkswagen</td>\n",
       "      <td>Passat</td>\n",
       "      <td>2.0 TDI Comfortline DPF</td>\n",
       "      <td>2010</td>\n",
       "      <td>results321_makes.asp?broker=10074&amp;oglasrubrik...</td>\n",
       "      <td>10074</td>\n",
       "      <td>interest</td>\n",
       "    </tr>\n",
       "    <tr>\n",
       "      <th>21</th>\n",
       "      <td>Mercedes-Benz</td>\n",
       "      <td>A-Razred</td>\n",
       "      <td>A 160 CDI BLUEEFF ELEGANCE</td>\n",
       "      <td>2011</td>\n",
       "      <td>results321_makes.asp?broker=11509&amp;oglasrubrik...</td>\n",
       "      <td>11509</td>\n",
       "      <td>interest</td>\n",
       "    </tr>\n",
       "    <tr>\n",
       "      <th>28</th>\n",
       "      <td>Audi</td>\n",
       "      <td>A6</td>\n",
       "      <td>Allroad 3.0 TDI quattro tiptronic</td>\n",
       "      <td>2007</td>\n",
       "      <td>results321_makes.asp?broker=14359&amp;oglasrubrik...</td>\n",
       "      <td>14359</td>\n",
       "      <td>interest</td>\n",
       "    </tr>\n",
       "    <tr>\n",
       "      <th>61</th>\n",
       "      <td>Volkswagen</td>\n",
       "      <td>Touran</td>\n",
       "      <td>2.0 TDI-7 SEDEŽEV-TEMPOMAT-PDC-16COL</td>\n",
       "      <td>2011</td>\n",
       "      <td>results321_makes.asp?broker=15934&amp;oglasrubrik...</td>\n",
       "      <td>15934</td>\n",
       "      <td>interest</td>\n",
       "    </tr>\n",
       "    <tr>\n",
       "      <th>64</th>\n",
       "      <td>Volkswagen</td>\n",
       "      <td>Golf</td>\n",
       "      <td>1.9 TDI Comfortline-SLO-KLIMA-5 VRAT-ODLIČEN</td>\n",
       "      <td>2006</td>\n",
       "      <td>results321_makes.asp?broker=14489&amp;oglasrubrik...</td>\n",
       "      <td>14489</td>\n",
       "      <td>interest</td>\n",
       "    </tr>\n",
       "  </tbody>\n",
       "</table>\n",
       "</div>"
      ],
      "text/plain": [
       "            brand     model                                          info  \\\n",
       "11     Volkswagen    Passat                       2.0 TDI Comfortline DPF   \n",
       "21  Mercedes-Benz  A-Razred                    A 160 CDI BLUEEFF ELEGANCE   \n",
       "28           Audi        A6             Allroad 3.0 TDI quattro tiptronic   \n",
       "61     Volkswagen    Touran          2.0 TDI-7 SEDEŽEV-TEMPOMAT-PDC-16COL   \n",
       "64     Volkswagen      Golf  1.9 TDI Comfortline-SLO-KLIMA-5 VRAT-ODLIČEN   \n",
       "\n",
       "    year                                             broker broker_id  \\\n",
       "11  2010   results321_makes.asp?broker=10074&oglasrubrik...     10074   \n",
       "21  2011   results321_makes.asp?broker=11509&oglasrubrik...     11509   \n",
       "28  2007   results321_makes.asp?broker=14359&oglasrubrik...     14359   \n",
       "61  2011   results321_makes.asp?broker=15934&oglasrubrik...     15934   \n",
       "64  2006   results321_makes.asp?broker=14489&oglasrubrik...     14489   \n",
       "\n",
       "   year_category  \n",
       "11      interest  \n",
       "21      interest  \n",
       "28      interest  \n",
       "61      interest  \n",
       "64      interest  "
      ]
     },
     "execution_count": 41,
     "metadata": {},
     "output_type": "execute_result"
    }
   ],
   "source": [
    "df_filter.head()"
   ]
  },
  {
   "cell_type": "code",
   "execution_count": 56,
   "id": "9eb2348e",
   "metadata": {},
   "outputs": [],
   "source": [
    "df_top = df_filter.groupby('broker_id').size().reset_index(name='counts').sort_values('counts', ascending=False).head()"
   ]
  },
  {
   "cell_type": "code",
   "execution_count": 57,
   "id": "77046a47",
   "metadata": {},
   "outputs": [
    {
     "data": {
      "text/html": [
       "<div>\n",
       "<style scoped>\n",
       "    .dataframe tbody tr th:only-of-type {\n",
       "        vertical-align: middle;\n",
       "    }\n",
       "\n",
       "    .dataframe tbody tr th {\n",
       "        vertical-align: top;\n",
       "    }\n",
       "\n",
       "    .dataframe thead th {\n",
       "        text-align: right;\n",
       "    }\n",
       "</style>\n",
       "<table border=\"1\" class=\"dataframe\">\n",
       "  <thead>\n",
       "    <tr style=\"text-align: right;\">\n",
       "      <th></th>\n",
       "      <th>broker_id</th>\n",
       "      <th>counts</th>\n",
       "    </tr>\n",
       "  </thead>\n",
       "  <tbody>\n",
       "    <tr>\n",
       "      <th>28</th>\n",
       "      <td>14634</td>\n",
       "      <td>104</td>\n",
       "    </tr>\n",
       "    <tr>\n",
       "      <th>17</th>\n",
       "      <td>13781</td>\n",
       "      <td>101</td>\n",
       "    </tr>\n",
       "    <tr>\n",
       "      <th>54</th>\n",
       "      <td>18002</td>\n",
       "      <td>80</td>\n",
       "    </tr>\n",
       "    <tr>\n",
       "      <th>23</th>\n",
       "      <td>14446</td>\n",
       "      <td>65</td>\n",
       "    </tr>\n",
       "    <tr>\n",
       "      <th>31</th>\n",
       "      <td>15096</td>\n",
       "      <td>37</td>\n",
       "    </tr>\n",
       "  </tbody>\n",
       "</table>\n",
       "</div>"
      ],
      "text/plain": [
       "   broker_id  counts\n",
       "28     14634     104\n",
       "17     13781     101\n",
       "54     18002      80\n",
       "23     14446      65\n",
       "31     15096      37"
      ]
     },
     "execution_count": 57,
     "metadata": {},
     "output_type": "execute_result"
    }
   ],
   "source": [
    "df_top"
   ]
  },
  {
   "cell_type": "code",
   "execution_count": 67,
   "id": "46e997ce",
   "metadata": {},
   "outputs": [
    {
     "data": {
      "text/html": [
       "<div>\n",
       "<style scoped>\n",
       "    .dataframe tbody tr th:only-of-type {\n",
       "        vertical-align: middle;\n",
       "    }\n",
       "\n",
       "    .dataframe tbody tr th {\n",
       "        vertical-align: top;\n",
       "    }\n",
       "\n",
       "    .dataframe thead th {\n",
       "        text-align: right;\n",
       "    }\n",
       "</style>\n",
       "<table border=\"1\" class=\"dataframe\">\n",
       "  <thead>\n",
       "    <tr style=\"text-align: right;\">\n",
       "      <th></th>\n",
       "      <th>brand</th>\n",
       "      <th>model</th>\n",
       "      <th>counts</th>\n",
       "    </tr>\n",
       "  </thead>\n",
       "  <tbody>\n",
       "    <tr>\n",
       "      <th>0</th>\n",
       "      <td>Mercedes-Benz</td>\n",
       "      <td>B-Razred</td>\n",
       "      <td>79</td>\n",
       "    </tr>\n",
       "    <tr>\n",
       "      <th>1</th>\n",
       "      <td>Volkswagen</td>\n",
       "      <td>Touran</td>\n",
       "      <td>25</td>\n",
       "    </tr>\n",
       "  </tbody>\n",
       "</table>\n",
       "</div>"
      ],
      "text/plain": [
       "           brand     model  counts\n",
       "0  Mercedes-Benz  B-Razred      79\n",
       "1     Volkswagen    Touran      25"
      ]
     },
     "execution_count": 67,
     "metadata": {},
     "output_type": "execute_result"
    }
   ],
   "source": [
    "df_filter[df_filter['broker_id'] == '14634'].groupby(['brand', 'model']).size().reset_index(name='counts')"
   ]
  },
  {
   "cell_type": "code",
   "execution_count": 68,
   "id": "4462de26",
   "metadata": {},
   "outputs": [
    {
     "data": {
      "text/html": [
       "<div>\n",
       "<style scoped>\n",
       "    .dataframe tbody tr th:only-of-type {\n",
       "        vertical-align: middle;\n",
       "    }\n",
       "\n",
       "    .dataframe tbody tr th {\n",
       "        vertical-align: top;\n",
       "    }\n",
       "\n",
       "    .dataframe thead th {\n",
       "        text-align: right;\n",
       "    }\n",
       "</style>\n",
       "<table border=\"1\" class=\"dataframe\">\n",
       "  <thead>\n",
       "    <tr style=\"text-align: right;\">\n",
       "      <th></th>\n",
       "      <th>brand</th>\n",
       "      <th>model</th>\n",
       "      <th>info</th>\n",
       "      <th>year</th>\n",
       "      <th>broker</th>\n",
       "      <th>broker_id</th>\n",
       "      <th>year_category</th>\n",
       "    </tr>\n",
       "  </thead>\n",
       "  <tbody>\n",
       "    <tr>\n",
       "      <th>957</th>\n",
       "      <td>Volkswagen</td>\n",
       "      <td>Touran</td>\n",
       "      <td>1.6 TDI - 6 PRESTAV - KLIMA - PDC - SLO -TEMPOMAT</td>\n",
       "      <td>2011</td>\n",
       "      <td>results321_makes.asp?broker=14634&amp;oglasrubrik...</td>\n",
       "      <td>14634</td>\n",
       "      <td>interest</td>\n",
       "    </tr>\n",
       "    <tr>\n",
       "      <th>965</th>\n",
       "      <td>Mercedes-Benz</td>\n",
       "      <td>B-Razred</td>\n",
       "      <td>B 180 CDI- 6 PRESTAV - KLIMA - ALU - GR. SEDEŽEV</td>\n",
       "      <td>2012</td>\n",
       "      <td>results321_makes.asp?broker=14634&amp;oglasrubrik...</td>\n",
       "      <td>14634</td>\n",
       "      <td>interest</td>\n",
       "    </tr>\n",
       "    <tr>\n",
       "      <th>1005</th>\n",
       "      <td>Mercedes-Benz</td>\n",
       "      <td>B-Razred</td>\n",
       "      <td>B 180 CDI- 6 PRESTAV - KLIMA - ALU - GR. SEDEŽEV</td>\n",
       "      <td>2012</td>\n",
       "      <td>results321_makes.asp?broker=14634&amp;oglasrubrik...</td>\n",
       "      <td>14634</td>\n",
       "      <td>interest</td>\n",
       "    </tr>\n",
       "    <tr>\n",
       "      <th>1045</th>\n",
       "      <td>Mercedes-Benz</td>\n",
       "      <td>B-Razred</td>\n",
       "      <td>B 180 CDI- 6 PRESTAV - KLIMA - ALU - GR. SEDEŽEV</td>\n",
       "      <td>2012</td>\n",
       "      <td>results321_makes.asp?broker=14634&amp;oglasrubrik...</td>\n",
       "      <td>14634</td>\n",
       "      <td>interest</td>\n",
       "    </tr>\n",
       "    <tr>\n",
       "      <th>1085</th>\n",
       "      <td>Mercedes-Benz</td>\n",
       "      <td>B-Razred</td>\n",
       "      <td>B 180 CDI- 6 PRESTAV - KLIMA - ALU - GR. SEDEŽEV</td>\n",
       "      <td>2012</td>\n",
       "      <td>results321_makes.asp?broker=14634&amp;oglasrubrik...</td>\n",
       "      <td>14634</td>\n",
       "      <td>interest</td>\n",
       "    </tr>\n",
       "    <tr>\n",
       "      <th>...</th>\n",
       "      <td>...</td>\n",
       "      <td>...</td>\n",
       "      <td>...</td>\n",
       "      <td>...</td>\n",
       "      <td>...</td>\n",
       "      <td>...</td>\n",
       "      <td>...</td>\n",
       "    </tr>\n",
       "    <tr>\n",
       "      <th>4011</th>\n",
       "      <td>Mercedes-Benz</td>\n",
       "      <td>B-Razred</td>\n",
       "      <td>B 180 CDI- 6 PRESTAV - KLIMA - ALU - GR. SEDEŽEV</td>\n",
       "      <td>2012</td>\n",
       "      <td>results321_makes.asp?broker=14634&amp;oglasrubrik...</td>\n",
       "      <td>14634</td>\n",
       "      <td>interest</td>\n",
       "    </tr>\n",
       "    <tr>\n",
       "      <th>4043</th>\n",
       "      <td>Volkswagen</td>\n",
       "      <td>Touran</td>\n",
       "      <td>1.6 TDI - 6 PRESTAV - KLIMA - PDC - SLO -TEMPOMAT</td>\n",
       "      <td>2011</td>\n",
       "      <td>results321_makes.asp?broker=14634&amp;oglasrubrik...</td>\n",
       "      <td>14634</td>\n",
       "      <td>interest</td>\n",
       "    </tr>\n",
       "    <tr>\n",
       "      <th>4051</th>\n",
       "      <td>Mercedes-Benz</td>\n",
       "      <td>B-Razred</td>\n",
       "      <td>B 180 CDI- 6 PRESTAV - KLIMA - ALU - GR. SEDEŽEV</td>\n",
       "      <td>2012</td>\n",
       "      <td>results321_makes.asp?broker=14634&amp;oglasrubrik...</td>\n",
       "      <td>14634</td>\n",
       "      <td>interest</td>\n",
       "    </tr>\n",
       "    <tr>\n",
       "      <th>4083</th>\n",
       "      <td>Volkswagen</td>\n",
       "      <td>Touran</td>\n",
       "      <td>1.6 TDI - 6 PRESTAV - KLIMA - PDC - SLO -TEMPOMAT</td>\n",
       "      <td>2011</td>\n",
       "      <td>results321_makes.asp?broker=14634&amp;oglasrubrik...</td>\n",
       "      <td>14634</td>\n",
       "      <td>interest</td>\n",
       "    </tr>\n",
       "    <tr>\n",
       "      <th>4091</th>\n",
       "      <td>Mercedes-Benz</td>\n",
       "      <td>B-Razred</td>\n",
       "      <td>B 180 CDI- 6 PRESTAV - KLIMA - ALU - GR. SEDEŽEV</td>\n",
       "      <td>2012</td>\n",
       "      <td>results321_makes.asp?broker=14634&amp;oglasrubrik...</td>\n",
       "      <td>14634</td>\n",
       "      <td>interest</td>\n",
       "    </tr>\n",
       "  </tbody>\n",
       "</table>\n",
       "<p>104 rows × 7 columns</p>\n",
       "</div>"
      ],
      "text/plain": [
       "              brand     model  \\\n",
       "957      Volkswagen    Touran   \n",
       "965   Mercedes-Benz  B-Razred   \n",
       "1005  Mercedes-Benz  B-Razred   \n",
       "1045  Mercedes-Benz  B-Razred   \n",
       "1085  Mercedes-Benz  B-Razred   \n",
       "...             ...       ...   \n",
       "4011  Mercedes-Benz  B-Razred   \n",
       "4043     Volkswagen    Touran   \n",
       "4051  Mercedes-Benz  B-Razred   \n",
       "4083     Volkswagen    Touran   \n",
       "4091  Mercedes-Benz  B-Razred   \n",
       "\n",
       "                                                   info  year  \\\n",
       "957   1.6 TDI - 6 PRESTAV - KLIMA - PDC - SLO -TEMPOMAT  2011   \n",
       "965    B 180 CDI- 6 PRESTAV - KLIMA - ALU - GR. SEDEŽEV  2012   \n",
       "1005   B 180 CDI- 6 PRESTAV - KLIMA - ALU - GR. SEDEŽEV  2012   \n",
       "1045   B 180 CDI- 6 PRESTAV - KLIMA - ALU - GR. SEDEŽEV  2012   \n",
       "1085   B 180 CDI- 6 PRESTAV - KLIMA - ALU - GR. SEDEŽEV  2012   \n",
       "...                                                 ...   ...   \n",
       "4011   B 180 CDI- 6 PRESTAV - KLIMA - ALU - GR. SEDEŽEV  2012   \n",
       "4043  1.6 TDI - 6 PRESTAV - KLIMA - PDC - SLO -TEMPOMAT  2011   \n",
       "4051   B 180 CDI- 6 PRESTAV - KLIMA - ALU - GR. SEDEŽEV  2012   \n",
       "4083  1.6 TDI - 6 PRESTAV - KLIMA - PDC - SLO -TEMPOMAT  2011   \n",
       "4091   B 180 CDI- 6 PRESTAV - KLIMA - ALU - GR. SEDEŽEV  2012   \n",
       "\n",
       "                                                 broker broker_id  \\\n",
       "957    results321_makes.asp?broker=14634&oglasrubrik...     14634   \n",
       "965    results321_makes.asp?broker=14634&oglasrubrik...     14634   \n",
       "1005   results321_makes.asp?broker=14634&oglasrubrik...     14634   \n",
       "1045   results321_makes.asp?broker=14634&oglasrubrik...     14634   \n",
       "1085   results321_makes.asp?broker=14634&oglasrubrik...     14634   \n",
       "...                                                 ...       ...   \n",
       "4011   results321_makes.asp?broker=14634&oglasrubrik...     14634   \n",
       "4043   results321_makes.asp?broker=14634&oglasrubrik...     14634   \n",
       "4051   results321_makes.asp?broker=14634&oglasrubrik...     14634   \n",
       "4083   results321_makes.asp?broker=14634&oglasrubrik...     14634   \n",
       "4091   results321_makes.asp?broker=14634&oglasrubrik...     14634   \n",
       "\n",
       "     year_category  \n",
       "957       interest  \n",
       "965       interest  \n",
       "1005      interest  \n",
       "1045      interest  \n",
       "1085      interest  \n",
       "...            ...  \n",
       "4011      interest  \n",
       "4043      interest  \n",
       "4051      interest  \n",
       "4083      interest  \n",
       "4091      interest  \n",
       "\n",
       "[104 rows x 7 columns]"
      ]
     },
     "execution_count": 68,
     "metadata": {},
     "output_type": "execute_result"
    }
   ],
   "source": [
    "df_filter[df_filter['broker_id'] == '14634']"
   ]
  },
  {
   "cell_type": "code",
   "execution_count": 6,
   "id": "41ac1957",
   "metadata": {},
   "outputs": [],
   "source": [
    "columns = ['title', 'broker', 'year']\n",
    "with open('data3.csv', 'w') as file:\n",
    "    file.write(\",\".join(columns))\n",
    "    file.write(\"\\n\")"
   ]
  },
  {
   "cell_type": "code",
   "execution_count": 70,
   "id": "6cdea1d1",
   "metadata": {},
   "outputs": [],
   "source": [
    "def scraper(page_from, page_to):\n",
    "    for page_number in range(page_from, page_to):\n",
    "        url = get_url(page_number)\n",
    "        r = requests.get(url, headers=headers)\n",
    "        soup = BeautifulSoup(r.content, \"html.parser\")\n",
    "        with open('data3.csv', 'a') as file:\n",
    "            for car in soup.findAll('div', class_='GO-Results-Row'):\n",
    "                car_data = extract_car_data(car)\n",
    "                file.write(\", \".join(car_data))\n",
    "                file.write(\"\\n\")\n",
    "        print(page_number)\n",
    "        sleep(random.randint(10,20))"
   ]
  },
  {
   "cell_type": "code",
   "execution_count": 69,
   "id": "43903052",
   "metadata": {},
   "outputs": [
    {
     "data": {
      "text/plain": [
       "8120"
      ]
     },
     "execution_count": 69,
     "metadata": {},
     "output_type": "execute_result"
    }
   ],
   "source": [
    "len(df)"
   ]
  },
  {
   "cell_type": "code",
   "execution_count": null,
   "id": "0a2ebc08",
   "metadata": {},
   "outputs": [],
   "source": []
  }
 ],
 "metadata": {
  "kernelspec": {
   "display_name": "scrapper",
   "language": "python",
   "name": "scrapper"
  },
  "language_info": {
   "codemirror_mode": {
    "name": "ipython",
    "version": 3
   },
   "file_extension": ".py",
   "mimetype": "text/x-python",
   "name": "python",
   "nbconvert_exporter": "python",
   "pygments_lexer": "ipython3",
   "version": "3.8.10"
  }
 },
 "nbformat": 4,
 "nbformat_minor": 5
}
